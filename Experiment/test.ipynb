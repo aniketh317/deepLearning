{
 "cells": [
  {
   "cell_type": "code",
   "execution_count": 1,
   "metadata": {},
   "outputs": [],
   "source": [
    "import tensorflow as tf"
   ]
  },
  {
   "cell_type": "code",
   "execution_count": 2,
   "metadata": {},
   "outputs": [],
   "source": [
    "l0 = [1,2,3]\n",
    "l1 = [4,5,6,7]\n",
    "l2 = [7,8,9]\n",
    "l3 = [1,2]\n",
    "\n",
    "feat = [l0,l1,l2,l3]\n",
    "label = [1,0,1,1]"
   ]
  },
  {
   "cell_type": "code",
   "execution_count": 109,
   "metadata": {},
   "outputs": [],
   "source": [
    "flat_values = tf.concat(feat, axis=0)\n",
    "row_lengths = [len(feature) for feature in feat]\n",
    "ragged_tensor = tf.RaggedTensor.from_row_lengths(flat_values, row_lengths)"
   ]
  },
  {
   "cell_type": "code",
   "execution_count": 110,
   "metadata": {},
   "outputs": [
    {
     "name": "stdout",
     "output_type": "stream",
     "text": [
      "tf.Tensor([1 2 3 4 5 6 7 7 8 9 1 2], shape=(12,), dtype=int32)\n"
     ]
    }
   ],
   "source": [
    "print(flat_values)"
   ]
  },
  {
   "cell_type": "code",
   "execution_count": 111,
   "metadata": {},
   "outputs": [],
   "source": [
    "features = tf.data.Dataset.from_tensor_slices(ragged_tensor)"
   ]
  },
  {
   "cell_type": "code",
   "execution_count": 112,
   "metadata": {},
   "outputs": [
    {
     "name": "stdout",
     "output_type": "stream",
     "text": [
      "Feature is [1 2 3]\n",
      "Feature is [4 5 6 7]\n",
      "Feature is [7 8 9]\n",
      "Feature is [1 2]\n"
     ]
    }
   ],
   "source": [
    "for element in features:\n",
    "    print(f\"Feature is {element}\")"
   ]
  },
  {
   "cell_type": "code",
   "execution_count": 124,
   "metadata": {},
   "outputs": [],
   "source": [
    "# Define a function to batch ragged tensors\n",
    "def ragged_batch_fn(batch):\n",
    "    return tf.ragged.stack(batch)"
   ]
  },
  {
   "cell_type": "code",
   "execution_count": 125,
   "metadata": {},
   "outputs": [],
   "source": [
    "# Apply custom batching\n",
    "batched_dataset = features.batch(2).map(lambda batch: ragged_batch_fn(batch))"
   ]
  },
  {
   "cell_type": "code",
   "execution_count": 126,
   "metadata": {},
   "outputs": [
    {
     "name": "stdout",
     "output_type": "stream",
     "text": [
      "<tf.RaggedTensor [[[1, 2, 3], [4, 5, 6, 7]]]>\n",
      "<tf.RaggedTensor [[[7, 8, 9], [1, 2]]]>\n"
     ]
    }
   ],
   "source": [
    "for batch in batched_dataset:\n",
    "    print(batch)"
   ]
  },
  {
   "cell_type": "code",
   "execution_count": 30,
   "metadata": {},
   "outputs": [
    {
     "name": "stdout",
     "output_type": "stream",
     "text": [
      "<tf.RaggedTensor [[b'a', b'b'], [b'c']]>\n"
     ]
    }
   ],
   "source": [
    "a = tf.constant(['a','b'])\n",
    "b = tf.constant(['c'])\n",
    "c = tf.ragged.stack([a,b])\n",
    "print(c)"
   ]
  },
  {
   "cell_type": "code",
   "execution_count": 36,
   "metadata": {},
   "outputs": [
    {
     "data": {
      "text/plain": [
       "<tf.RaggedTensor [[b'a', b'b']]>"
      ]
     },
     "execution_count": 36,
     "metadata": {},
     "output_type": "execute_result"
    }
   ],
   "source": [
    "r = tf.RaggedTensor.from_row_lengths(a,[2])\n",
    "r"
   ]
  },
  {
   "cell_type": "code",
   "execution_count": 3,
   "metadata": {},
   "outputs": [],
   "source": [
    "def dataset_generator(features, labels):\n",
    "    def func():\n",
    "        for i in range(len(features)):\n",
    "            yield (features[i], labels[i])\n",
    "    return func"
   ]
  },
  {
   "cell_type": "code",
   "execution_count": 4,
   "metadata": {},
   "outputs": [],
   "source": [
    "dataset = tf.data.Dataset.from_generator(dataset_generator(feat, label),\n",
    "                                         output_signature=(\n",
    "                                             tf.TensorSpec(shape=(None,), dtype=tf.int32),\n",
    "                                             tf.TensorSpec(shape=(), dtype=tf.int8)\n",
    "                                         ))\n"
   ]
  },
  {
   "cell_type": "code",
   "execution_count": 26,
   "metadata": {},
   "outputs": [],
   "source": [
    "# Define a function to batch ragged tensors\n",
    "def ragged_batch_fn2(features, labels):\n",
    "    return tf.RaggedTensor.from_row_lengths(features, [len(features)]), labels"
   ]
  },
  {
   "cell_type": "code",
   "execution_count": 27,
   "metadata": {},
   "outputs": [],
   "source": [
    "ragged_batch_dataset = dataset.map(ragged_batch_fn2).batch(2)"
   ]
  },
  {
   "cell_type": "code",
   "execution_count": 28,
   "metadata": {},
   "outputs": [
    {
     "name": "stdout",
     "output_type": "stream",
     "text": [
      "(<tf.RaggedTensor [[[1, 2, 3]], [[4, 5, 6, 7]]]>, <tf.Tensor: shape=(2,), dtype=int8, numpy=array([1, 0], dtype=int8)>)\n",
      "(<tf.RaggedTensor [[[7, 8, 9]], [[1, 2]]]>, <tf.Tensor: shape=(2,), dtype=int8, numpy=array([1, 1], dtype=int8)>)\n"
     ]
    }
   ],
   "source": [
    "for elements in ragged_batch_dataset:\n",
    "    print(elements)"
   ]
  },
  {
   "cell_type": "code",
   "execution_count": 38,
   "metadata": {},
   "outputs": [],
   "source": [
    "padded_batch_dataset = ragged_batch_dataset.map(lambda feature_batch, label_batch: (tf.squeeze(feature_batch.to_tensor(),axis=1), label_batch))"
   ]
  },
  {
   "cell_type": "code",
   "execution_count": 39,
   "metadata": {},
   "outputs": [
    {
     "name": "stdout",
     "output_type": "stream",
     "text": [
      "(<tf.Tensor: shape=(2, 4), dtype=int32, numpy=\n",
      "array([[1, 2, 3, 0],\n",
      "       [4, 5, 6, 7]])>, <tf.Tensor: shape=(2,), dtype=int8, numpy=array([1, 0], dtype=int8)>)\n",
      "(<tf.Tensor: shape=(2, 3), dtype=int32, numpy=\n",
      "array([[7, 8, 9],\n",
      "       [1, 2, 0]])>, <tf.Tensor: shape=(2,), dtype=int8, numpy=array([1, 1], dtype=int8)>)\n"
     ]
    }
   ],
   "source": [
    "for elements in padded_batch_dataset:\n",
    "    print(elements)"
   ]
  },
  {
   "cell_type": "code",
   "execution_count": 41,
   "metadata": {},
   "outputs": [
    {
     "name": "stdout",
     "output_type": "stream",
     "text": [
      "[(1, 'a', 'aa'), (2, 'b', 'bb'), (3, 'c', 'cc')]\n"
     ]
    }
   ],
   "source": [
    "l = [[1,2,3],['a','b','c'],['aa','bb','cc']]\n",
    "r = zip(*l)\n",
    "t = list(r)\n",
    "print(t)"
   ]
  },
  {
   "cell_type": "code",
   "execution_count": 43,
   "metadata": {},
   "outputs": [
    {
     "data": {
      "text/plain": [
       "[(1, 2, 3), ('a', 'b', 'c'), ('aa', 'bb', 'cc')]"
      ]
     },
     "execution_count": 43,
     "metadata": {},
     "output_type": "execute_result"
    }
   ],
   "source": [
    "r2 = zip(*t)\n",
    "list(r2)"
   ]
  },
  {
   "cell_type": "code",
   "execution_count": 1,
   "metadata": {},
   "outputs": [
    {
     "name": "stdout",
     "output_type": "stream",
     "text": [
      "[[ 9  5 11  8  4]\n",
      " [ 3  7 10  2  6]]\n"
     ]
    }
   ],
   "source": [
    "import tensorflow as tf\n",
    "\n",
    "# Define the TextVectorization layer with ngrams\n",
    "vectorize_layer = tf.keras.layers.TextVectorization(\n",
    "    max_tokens=10000,\n",
    "    output_mode='int',\n",
    "    ngrams=2  # Generate bigrams\n",
    ")\n",
    "\n",
    "# Sample text data\n",
    "texts = [\"I love coding\", \"TensorFlow is great\"]\n",
    "\n",
    "# Adapt the vectorizer to the texts (builds the vocabulary including n-grams)\n",
    "vectorize_layer.adapt(texts)\n",
    "\n",
    "# Apply the TextVectorization layer\n",
    "vectorized_texts = vectorize_layer(texts)\n",
    "print(vectorized_texts.numpy())"
   ]
  },
  {
   "cell_type": "code",
   "execution_count": 2,
   "metadata": {},
   "outputs": [
    {
     "data": {
      "text/plain": [
       "['',\n",
       " '[UNK]',\n",
       " 'tensorflow is',\n",
       " 'tensorflow',\n",
       " 'love coding',\n",
       " 'love',\n",
       " 'is great',\n",
       " 'is',\n",
       " 'i love',\n",
       " 'i',\n",
       " 'great',\n",
       " 'coding']"
      ]
     },
     "execution_count": 2,
     "metadata": {},
     "output_type": "execute_result"
    }
   ],
   "source": [
    "vectorize_layer.get_vocabulary()"
   ]
  },
  {
   "cell_type": "code",
   "execution_count": null,
   "metadata": {},
   "outputs": [],
   "source": [
    "tf.keras.optimizer.RMSprop"
   ]
  }
 ],
 "metadata": {
  "kernelspec": {
   "display_name": "ecom",
   "language": "python",
   "name": "python3"
  },
  "language_info": {
   "codemirror_mode": {
    "name": "ipython",
    "version": 3
   },
   "file_extension": ".py",
   "mimetype": "text/x-python",
   "name": "python",
   "nbconvert_exporter": "python",
   "pygments_lexer": "ipython3",
   "version": "3.8.19"
  }
 },
 "nbformat": 4,
 "nbformat_minor": 2
}
